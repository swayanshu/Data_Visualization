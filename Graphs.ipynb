{
 "cells": [
  {
   "cell_type": "code",
   "execution_count": 14,
   "metadata": {},
   "outputs": [],
   "source": [
    "import pandas as pd\n",
    "game = pd.read_csv(\"Kanika_12Mar.csv\")\n",
    "BallData = game.loc[game.DataLabel== 'BallData']"
   ]
  },
  {
   "cell_type": "code",
   "execution_count": 36,
   "metadata": {
    "scrolled": true
   },
   "outputs": [
    {
     "name": "stderr",
     "output_type": "stream",
     "text": [
      "c:\\users\\loop reality\\appdata\\local\\programs\\python\\python36\\lib\\site-packages\\ipykernel_launcher.py:2: FutureWarning: currently extract(expand=None) means expand=False (return Index/Series/DataFrame) but in a future version of pandas this will be changed to expand=True (return DataFrame)\n",
      "  \n",
      "c:\\users\\loop reality\\appdata\\local\\programs\\python\\python36\\lib\\site-packages\\pandas\\core\\frame.py:2540: SettingWithCopyWarning: \n",
      "A value is trying to be set on a copy of a slice from a DataFrame.\n",
      "Try using .loc[row_indexer,col_indexer] = value instead\n",
      "\n",
      "See the caveats in the documentation: http://pandas.pydata.org/pandas-docs/stable/indexing.html#indexing-view-versus-copy\n",
      "  self[k1] = value[k2]\n",
      "c:\\users\\loop reality\\appdata\\local\\programs\\python\\python36\\lib\\site-packages\\ipykernel_launcher.py:3: SettingWithCopyWarning: \n",
      "A value is trying to be set on a copy of a slice from a DataFrame.\n",
      "Try using .loc[row_indexer,col_indexer] = value instead\n",
      "\n",
      "See the caveats in the documentation: http://pandas.pydata.org/pandas-docs/stable/indexing.html#indexing-view-versus-copy\n",
      "  This is separate from the ipykernel package so we can avoid doing imports until\n",
      "c:\\users\\loop reality\\appdata\\local\\programs\\python\\python36\\lib\\site-packages\\ipykernel_launcher.py:7: SettingWithCopyWarning: \n",
      "A value is trying to be set on a copy of a slice from a DataFrame.\n",
      "Try using .loc[row_indexer,col_indexer] = value instead\n",
      "\n",
      "See the caveats in the documentation: http://pandas.pydata.org/pandas-docs/stable/indexing.html#indexing-view-versus-copy\n",
      "  import sys\n"
     ]
    }
   ],
   "source": [
    "Data = BallData[['BallLevelNo','Ball_ID','Ball_Spawn_TimeStampLocal','BallHitType','Destroy_TimeStampLocal','BallGazeInWave','Ball_Color','Ball_SpawnZone']]\n",
    "Data[['AlphabetID','Numberid']] = Data['Ball_ID'].str.extract('([b])(\\d)')\n",
    "Data['newColumn'] = Data.AlphabetID.isna()\n",
    "\n",
    "#Multiple Balls in Whole Game \n",
    "Series = Data.loc[Data.newColumn == True]\n",
    "Series['Ball_ID'] = pd.to_numeric(Series['Ball_ID'], errors='coerce')\n",
    "Series_Frame = Series.sort_values('Ball_ID')\n",
    "\n",
    "#First Ball in Multiple Balls\n",
    "First_Ball_In_Series = Series_Frame.loc[Series.Ball_ID % 10 == 0]\n",
    "\n",
    "#All Single Balls with Blue,Yellow and Red in Whole Game\n",
    "Single = Data.loc[Data.newColumn == False]\n",
    "Single_Frame = Single.sort_values('Ball_Spawn_TimeStampLocal')\n",
    "List_of_Frames = [First_Ball_In_Series,Single_Frame]\n",
    "\n",
    "#Converting \"List of Frames\" to a Single Frame\n",
    "Frame = pd.concat(List_of_Frames)\n",
    "Game_DataFrame = Frame.copy()\n",
    "Game_DataFrame = Game_DataFrame.sort_values('Ball_Spawn_TimeStampLocal')\n",
    "\n",
    "\n"
   ]
  },
  {
   "cell_type": "code",
   "execution_count": 37,
   "metadata": {},
   "outputs": [
    {
     "name": "stdout",
     "output_type": "stream",
     "text": [
      "Level-One Success Rate is  61.15\n",
      "Level-Two Success Rate is  60.26\n",
      "Level-Three Success Rate is  66.2\n",
      "Level-Four Success Rate is  43.7\n"
     ]
    }
   ],
   "source": [
    "balldata_level1 = Game_DataFrame.loc[Game_DataFrame['BallLevelNo'] == 1.0]\n",
    "balldata_level1_suc = balldata_level1.loc[balldata_level1['BallHitType'] == 'CompleteSuccess']\n",
    "count_one = len(balldata_level1_suc['BallHitType'])\n",
    "Level_one_Success  = round((count_one/139)*100,2)\n",
    "\n",
    "\n",
    "balldata_level2 = Game_DataFrame.loc[Game_DataFrame['BallLevelNo'] == 2.0]\n",
    "balldata_level2_suc = balldata_level2.loc[balldata_level2['BallHitType'] == 'CompleteSuccess']\n",
    "count_two = len(balldata_level2_suc['BallHitType'])\n",
    "Level_two_Success  = round((count_two/78)*100,2)\n",
    "\n",
    "\n",
    "balldata_level3 = Game_DataFrame.loc[Game_DataFrame['BallLevelNo'] == 3.0]\n",
    "balldata_level3_suc = balldata_level3.loc[balldata_level3['BallHitType'] == 'CompleteSuccess']\n",
    "count_three = len(balldata_level2_suc['BallHitType'])\n",
    "Level_three_Success  = round((count_three/71)*100,2)\n",
    "\n",
    "\n",
    "balldata_level4 = Game_DataFrame.loc[Game_DataFrame['BallLevelNo'] == 4.0]\n",
    "balldata_level4_suc = balldata_level4.loc[balldata_level4['BallHitType'] == 'CompleteSuccess']\n",
    "count_four = len(balldata_level4_suc['BallHitType'])\n",
    "Level_four_Success  = round((count_four/119)*100,2)\n",
    "\n",
    "print('Level-One Success Rate is ',Level_one_Success)\n",
    "print('Level-Two Success Rate is ',Level_two_Success)\n",
    "print('Level-Three Success Rate is ',Level_three_Success)\n",
    "print('Level-Four Success Rate is ',Level_four_Success)"
   ]
  },
  {
   "cell_type": "code",
   "execution_count": 50,
   "metadata": {},
   "outputs": [
    {
     "data": {
      "text/plain": [
       "{'Level_four_Success': 43.7,\n",
       " 'Level_one_Success': 61.15,\n",
       " 'Level_three_Success': 66.2,\n",
       " 'Level_two_Success': 60.26}"
      ]
     },
     "execution_count": 50,
     "metadata": {},
     "output_type": "execute_result"
    }
   ],
   "source": [
    "my_dict = { 'Level_one_Success' : 61.15,  'Level_two_Success' : 60.26, 'Level_three_Success' : 66.2, 'Level_four_Success': 43.7  }\n",
    "my_dict"
   ]
  },
  {
   "cell_type": "code",
   "execution_count": 57,
   "metadata": {},
   "outputs": [],
   "source": [
    "import seaborn as sns"
   ]
  },
  {
   "cell_type": "code",
   "execution_count": 77,
   "metadata": {},
   "outputs": [
    {
     "data": {
      "image/png": "[encoded data removed]",
      "text/plain": [
       "<Figure size 432x288 with 1 Axes>"
      ]
     },
     "metadata": {},
     "output_type": "display_data"
    }
   ],
   "source": [
    "import matplotlib.pyplot as plt\n",
    "lines = plt.plot([Level_one_Success,Level_two_Success,Level_three_Success,Level_four_Success])\n",
    "plt.xlabel(' LEVELS ')\n",
    "plt.xticks([0,1,2,3])\n",
    "plt.ylabel(' PERCENTAGE OF SUCCESS RATE ')\n",
    "plt.setp(lines, color='b', linewidth=2.0,marker='o')\n",
    "plt.show()"
   ]
  },
  {
   "cell_type": "code",
   "execution_count": null,
   "metadata": {},
   "outputs": [],
   "source": []
  },
  {
   "cell_type": "code",
   "execution_count": null,
   "metadata": {},
   "outputs": [],
   "source": []
  },
  {
   "cell_type": "code",
   "execution_count": null,
   "metadata": {},
   "outputs": [],
   "source": []
  },
  {
   "cell_type": "code",
   "execution_count": null,
   "metadata": {},
   "outputs": [],
   "source": []
  },
  {
   "cell_type": "code",
   "execution_count": null,
   "metadata": {},
   "outputs": [],
   "source": []
  },
  {
   "cell_type": "code",
   "execution_count": null,
   "metadata": {},
   "outputs": [],
   "source": []
  },
  {
   "cell_type": "code",
   "execution_count": null,
   "metadata": {},
   "outputs": [],
   "source": []
  },
  {
   "cell_type": "code",
   "execution_count": null,
   "metadata": {},
   "outputs": [],
   "source": []
  },
  {
   "cell_type": "code",
   "execution_count": null,
   "metadata": {},
   "outputs": [],
   "source": []
  }
 ],
 "metadata": {
  "kernelspec": {
   "display_name": "Python 3",
   "language": "python",
   "name": "python3"
  },
  "language_info": {
   "codemirror_mode": {
    "name": "ipython",
    "version": 3
   },
   "file_extension": ".py",
   "mimetype": "text/x-python",
   "name": "python",
   "nbconvert_exporter": "python",
   "pygments_lexer": "ipython3",
   "version": "3.7.0"
  }
 },
 "nbformat": 4,
 "nbformat_minor": 2
}
